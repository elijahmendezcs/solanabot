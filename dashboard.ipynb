{
 "cells": [
  {
   "cell_type": "code",
   "execution_count": 3,
   "id": "11849ebc-cf65-4a02-8faa-b2672d8379cc",
   "metadata": {},
   "outputs": [
    {
     "data": {
      "text/html": [
       "<div>\n",
       "<style scoped>\n",
       "    .dataframe tbody tr th:only-of-type {\n",
       "        vertical-align: middle;\n",
       "    }\n",
       "\n",
       "    .dataframe tbody tr th {\n",
       "        vertical-align: top;\n",
       "    }\n",
       "\n",
       "    .dataframe thead th {\n",
       "        text-align: right;\n",
       "    }\n",
       "</style>\n",
       "<table border=\"1\" class=\"dataframe\">\n",
       "  <thead>\n",
       "    <tr style=\"text-align: right;\">\n",
       "      <th></th>\n",
       "      <th>id</th>\n",
       "      <th>timestamp</th>\n",
       "      <th>symbol</th>\n",
       "      <th>strategy</th>\n",
       "      <th>side</th>\n",
       "      <th>price</th>\n",
       "      <th>amount</th>\n",
       "      <th>cost</th>\n",
       "      <th>reason</th>\n",
       "    </tr>\n",
       "  </thead>\n",
       "  <tbody>\n",
       "    <tr>\n",
       "      <th>0</th>\n",
       "      <td>1</td>\n",
       "      <td>2025-05-23 18:33:59.098243</td>\n",
       "      <td>SOL/USDT</td>\n",
       "      <td>RsiStrategy</td>\n",
       "      <td>buy</td>\n",
       "      <td>179.82</td>\n",
       "      <td>0.055611</td>\n",
       "      <td>9.999999</td>\n",
       "      <td>None</td>\n",
       "    </tr>\n",
       "    <tr>\n",
       "      <th>1</th>\n",
       "      <td>2</td>\n",
       "      <td>2025-05-23 18:53:58.896951</td>\n",
       "      <td>SOL/USDT</td>\n",
       "      <td>RsiStrategy</td>\n",
       "      <td>sell</td>\n",
       "      <td>178.62</td>\n",
       "      <td>0.055611</td>\n",
       "      <td>9.933265</td>\n",
       "      <td>trailing-stop</td>\n",
       "    </tr>\n",
       "    <tr>\n",
       "      <th>2</th>\n",
       "      <td>3</td>\n",
       "      <td>2025-05-23 19:08:58.896126</td>\n",
       "      <td>SOL/USDT</td>\n",
       "      <td>RsiStrategy</td>\n",
       "      <td>buy</td>\n",
       "      <td>179.67</td>\n",
       "      <td>0.055658</td>\n",
       "      <td>9.999999</td>\n",
       "      <td>None</td>\n",
       "    </tr>\n",
       "    <tr>\n",
       "      <th>3</th>\n",
       "      <td>4</td>\n",
       "      <td>2025-05-23 19:23:58.914072</td>\n",
       "      <td>SOL/USDT</td>\n",
       "      <td>RsiStrategy</td>\n",
       "      <td>sell</td>\n",
       "      <td>179.76</td>\n",
       "      <td>0.055658</td>\n",
       "      <td>10.005008</td>\n",
       "      <td>time-cap</td>\n",
       "    </tr>\n",
       "    <tr>\n",
       "      <th>4</th>\n",
       "      <td>5</td>\n",
       "      <td>2025-05-23 20:43:58.869882</td>\n",
       "      <td>SOL/USDT</td>\n",
       "      <td>RsiStrategy</td>\n",
       "      <td>buy</td>\n",
       "      <td>177.51</td>\n",
       "      <td>0.056335</td>\n",
       "      <td>9.999999</td>\n",
       "      <td>None</td>\n",
       "    </tr>\n",
       "  </tbody>\n",
       "</table>\n",
       "</div>"
      ],
      "text/plain": [
       "   id                  timestamp    symbol     strategy  side   price  \\\n",
       "0   1 2025-05-23 18:33:59.098243  SOL/USDT  RsiStrategy   buy  179.82   \n",
       "1   2 2025-05-23 18:53:58.896951  SOL/USDT  RsiStrategy  sell  178.62   \n",
       "2   3 2025-05-23 19:08:58.896126  SOL/USDT  RsiStrategy   buy  179.67   \n",
       "3   4 2025-05-23 19:23:58.914072  SOL/USDT  RsiStrategy  sell  179.76   \n",
       "4   5 2025-05-23 20:43:58.869882  SOL/USDT  RsiStrategy   buy  177.51   \n",
       "\n",
       "     amount       cost         reason  \n",
       "0  0.055611   9.999999           None  \n",
       "1  0.055611   9.933265  trailing-stop  \n",
       "2  0.055658   9.999999           None  \n",
       "3  0.055658  10.005008       time-cap  \n",
       "4  0.056335   9.999999           None  "
      ]
     },
     "execution_count": 3,
     "metadata": {},
     "output_type": "execute_result"
    }
   ],
   "source": [
    "import sqlite3\n",
    "import pandas as pd\n",
    "\n",
    "conn = sqlite3.connect(\"data/trades.db\")\n",
    "df = pd.read_sql_query(\"SELECT * FROM trades ORDER BY timestamp\", conn, parse_dates=[\"timestamp\"])\n",
    "conn.close()\n",
    "\n",
    "# Quick peek\n",
    "df.head()"
   ]
  },
  {
   "cell_type": "code",
   "execution_count": 4,
   "id": "64e74bf9-a7ef-4e28-99da-46a461ff1fb7",
   "metadata": {},
   "outputs": [
    {
     "data": {
      "image/png": "[encoded data removed]",
      "text/plain": [
       "<Figure size 640x480 with 1 Axes>"
      ]
     },
     "metadata": {},
     "output_type": "display_data"
    }
   ],
   "source": [
    "import matplotlib.pyplot as plt\n",
    "\n",
    "# cumulative P&L by symbol\n",
    "df[\"cum_pnl\"] = df.groupby(\"symbol\")[\"cost\"].cumsum()\n",
    "\n",
    "plt.figure()\n",
    "for sym, grp in df.groupby(\"symbol\"):\n",
    "    plt.plot(grp[\"timestamp\"], grp[\"cum_pnl\"], label=sym)\n",
    "plt.legend()\n",
    "plt.title(\"Equity Curve by Symbol\")\n",
    "plt.xlabel(\"Time\")\n",
    "plt.ylabel(\"Cumulative P&L (USDT)\")\n",
    "plt.show()\n"
   ]
  },
  {
   "cell_type": "code",
   "execution_count": 5,
   "id": "e30126de-59fb-4838-8af1-2a464fcb4ee7",
   "metadata": {},
   "outputs": [
    {
     "data": {
      "text/html": [
       "<div>\n",
       "<style scoped>\n",
       "    .dataframe tbody tr th:only-of-type {\n",
       "        vertical-align: middle;\n",
       "    }\n",
       "\n",
       "    .dataframe tbody tr th {\n",
       "        vertical-align: top;\n",
       "    }\n",
       "\n",
       "    .dataframe thead th {\n",
       "        text-align: right;\n",
       "    }\n",
       "</style>\n",
       "<table border=\"1\" class=\"dataframe\">\n",
       "  <thead>\n",
       "    <tr style=\"text-align: right;\">\n",
       "      <th></th>\n",
       "      <th>symbol</th>\n",
       "      <th>strategy</th>\n",
       "      <th>total_pnl</th>\n",
       "      <th>trades</th>\n",
       "    </tr>\n",
       "  </thead>\n",
       "  <tbody>\n",
       "    <tr>\n",
       "      <th>0</th>\n",
       "      <td>SOL/USDT</td>\n",
       "      <td>RsiStrategy</td>\n",
       "      <td>79.888079</td>\n",
       "      <td>8</td>\n",
       "    </tr>\n",
       "  </tbody>\n",
       "</table>\n",
       "</div>"
      ],
      "text/plain": [
       "     symbol     strategy  total_pnl  trades\n",
       "0  SOL/USDT  RsiStrategy  79.888079       8"
      ]
     },
     "execution_count": 5,
     "metadata": {},
     "output_type": "execute_result"
    }
   ],
   "source": [
    "summary = df.groupby([\"symbol\",\"strategy\"])[\"cost\"] \\\n",
    "            .agg(total_pnl=\"sum\", trades=\"count\") \\\n",
    "            .reset_index()\n",
    "summary\n"
   ]
  },
  {
   "cell_type": "code",
   "execution_count": null,
   "id": "244c4007-40ad-45f4-8bcd-3cf0782f44d5",
   "metadata": {},
   "outputs": [],
   "source": []
  }
 ],
 "metadata": {
  "kernelspec": {
   "display_name": "Python 3 (ipykernel)",
   "language": "python",
   "name": "python3"
  },
  "language_info": {
   "codemirror_mode": {
    "name": "ipython",
    "version": 3
   },
   "file_extension": ".py",
   "mimetype": "text/x-python",
   "name": "python",
   "nbconvert_exporter": "python",
   "pygments_lexer": "ipython3",
   "version": "3.11.3"
  }
 },
 "nbformat": 4,
 "nbformat_minor": 5
}
